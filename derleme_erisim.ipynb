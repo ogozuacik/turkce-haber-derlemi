{
 "cells": [
  {
   "cell_type": "code",
   "execution_count": 6,
   "metadata": {},
   "outputs": [],
   "source": [
    "import pandas as pd"
   ]
  },
  {
   "cell_type": "code",
   "execution_count": 25,
   "metadata": {},
   "outputs": [
    {
     "data": {
      "text/html": [
       "<div>\n",
       "<style scoped>\n",
       "    .dataframe tbody tr th:only-of-type {\n",
       "        vertical-align: middle;\n",
       "    }\n",
       "\n",
       "    .dataframe tbody tr th {\n",
       "        vertical-align: top;\n",
       "    }\n",
       "\n",
       "    .dataframe thead th {\n",
       "        text-align: right;\n",
       "    }\n",
       "</style>\n",
       "<table border=\"1\" class=\"dataframe\">\n",
       "  <thead>\n",
       "    <tr style=\"text-align: right;\">\n",
       "      <th></th>\n",
       "      <th>news_title</th>\n",
       "      <th>summary</th>\n",
       "      <th>category</th>\n",
       "      <th>date</th>\n",
       "      <th>link</th>\n",
       "      <th>news</th>\n",
       "    </tr>\n",
       "  </thead>\n",
       "  <tbody>\n",
       "    <tr>\n",
       "      <th>0</th>\n",
       "      <td>Mili Piyango yılbaşı çekilişi sıralı tam liste...</td>\n",
       "      <td>Her yıl büyük bir heyecana sahne olan ve milyo...</td>\n",
       "      <td>Gündem</td>\n",
       "      <td>31.12.2019</td>\n",
       "      <td>/gundem/mili-piyango-yilbasi-cekilisi-sirali-t...</td>\n",
       "      <td>. İnsanların en büyük hayallerinden biri zengi...</td>\n",
       "    </tr>\n",
       "    <tr>\n",
       "      <th>1</th>\n",
       "      <td>Mili Piyango sıralı tam listesi 31 Aralık 2019...</td>\n",
       "      <td>Her yıl büyük bir heyecana sahne olan Milli Pi...</td>\n",
       "      <td>Gündem</td>\n",
       "      <td>31.12.2019</td>\n",
       "      <td>/gundem/mili-piyango-sirali-tam-listesi-31-ara...</td>\n",
       "      <td>. İnsanların en büyük hayallerinden biri zengi...</td>\n",
       "    </tr>\n",
       "    <tr>\n",
       "      <th>2</th>\n",
       "      <td>MPİ bilet amorti ikramiye sonuç sorgulama ekra...</td>\n",
       "      <td>Milli Piyango Yılbaşı Özel Çekilişi 31 Aralık ...</td>\n",
       "      <td>Gündem</td>\n",
       "      <td>1.01.2020</td>\n",
       "      <td>/gundem/mpi-bilet-amorti-ikramiye-sonuc-sorgul...</td>\n",
       "      <td>. 2020 Milli Piyango Yılbaşı Özel Çekilişinin ...</td>\n",
       "    </tr>\n",
       "    <tr>\n",
       "      <th>3</th>\n",
       "      <td>2020 Yılbaşı mesajları ve sözleri - Sevdikleri...</td>\n",
       "      <td>Google, Yılbaşı gününe özel Doodle yayımladı. ...</td>\n",
       "      <td>Gündem</td>\n",
       "      <td>31.12.2019</td>\n",
       "      <td>/gundem/yilbasi-mesajlari-sosyal-medya-ve-tele...</td>\n",
       "      <td>. Yeni yıl heyecanı tüm yurdumuzu sardı. Bu ak...</td>\n",
       "    </tr>\n",
       "    <tr>\n",
       "      <th>4</th>\n",
       "      <td>Yeni yıl mesajları ❤️ (Yılbaşı mesajları 2020)...</td>\n",
       "      <td>Bugün günlerden 31 Aralık 2019... Senenin son ...</td>\n",
       "      <td>Gündem</td>\n",
       "      <td>31.12.2019</td>\n",
       "      <td>/gundem/yilbasi-kutlama-mesajlari-2020-yeni-yi...</td>\n",
       "      <td>. Bugün en özel günlerden biri... Yeni yıl önc...</td>\n",
       "    </tr>\n",
       "  </tbody>\n",
       "</table>\n",
       "</div>"
      ],
      "text/plain": [
       "                                          news_title  \\\n",
       "0  Mili Piyango yılbaşı çekilişi sıralı tam liste...   \n",
       "1  Mili Piyango sıralı tam listesi 31 Aralık 2019...   \n",
       "2  MPİ bilet amorti ikramiye sonuç sorgulama ekra...   \n",
       "3  2020 Yılbaşı mesajları ve sözleri - Sevdikleri...   \n",
       "4  Yeni yıl mesajları ❤️ (Yılbaşı mesajları 2020)...   \n",
       "\n",
       "                                             summary category        date  \\\n",
       "0  Her yıl büyük bir heyecana sahne olan ve milyo...   Gündem  31.12.2019   \n",
       "1  Her yıl büyük bir heyecana sahne olan Milli Pi...   Gündem  31.12.2019   \n",
       "2  Milli Piyango Yılbaşı Özel Çekilişi 31 Aralık ...   Gündem   1.01.2020   \n",
       "3  Google, Yılbaşı gününe özel Doodle yayımladı. ...   Gündem  31.12.2019   \n",
       "4  Bugün günlerden 31 Aralık 2019... Senenin son ...   Gündem  31.12.2019   \n",
       "\n",
       "                                                link  \\\n",
       "0  /gundem/mili-piyango-yilbasi-cekilisi-sirali-t...   \n",
       "1  /gundem/mili-piyango-sirali-tam-listesi-31-ara...   \n",
       "2  /gundem/mpi-bilet-amorti-ikramiye-sonuc-sorgul...   \n",
       "3  /gundem/yilbasi-mesajlari-sosyal-medya-ve-tele...   \n",
       "4  /gundem/yilbasi-kutlama-mesajlari-2020-yeni-yi...   \n",
       "\n",
       "                                                news  \n",
       "0  . İnsanların en büyük hayallerinden biri zengi...  \n",
       "1  . İnsanların en büyük hayallerinden biri zengi...  \n",
       "2  . 2020 Milli Piyango Yılbaşı Özel Çekilişinin ...  \n",
       "3  . Yeni yıl heyecanı tüm yurdumuzu sardı. Bu ak...  \n",
       "4  . Bugün en özel günlerden biri... Yeni yıl önc...  "
      ]
     },
     "execution_count": 25,
     "metadata": {},
     "output_type": "execute_result"
    }
   ],
   "source": [
    "data=pd.read_csv('derlemler/milliyet_final.csv')\n",
    "data.head()"
   ]
  }
 ],
 "metadata": {
  "kernelspec": {
   "display_name": "Python 3",
   "language": "python",
   "name": "python3"
  },
  "language_info": {
   "codemirror_mode": {
    "name": "ipython",
    "version": 3
   },
   "file_extension": ".py",
   "mimetype": "text/x-python",
   "name": "python",
   "nbconvert_exporter": "python",
   "pygments_lexer": "ipython3",
   "version": "3.7.6"
  }
 },
 "nbformat": 4,
 "nbformat_minor": 4
}
