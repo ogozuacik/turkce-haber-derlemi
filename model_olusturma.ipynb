{
 "cells": [
  {
   "cell_type": "code",
   "execution_count": 1,
   "metadata": {},
   "outputs": [],
   "source": [
    "import pickle\n",
    "import pandas as pd\n",
    "from sklearn.feature_extraction.text import CountVectorizer\n",
    "from sklearn.model_selection import train_test_split\n",
    "from sklearn.preprocessing import LabelEncoder\n",
    "from sklearn.metrics import classification_report \n",
    "from sklearn.metrics import confusion_matrix \n",
    "from sklearn.metrics import accuracy_score"
   ]
  },
  {
   "cell_type": "markdown",
   "metadata": {},
   "source": [
    "# Veri setini yükleme"
   ]
  },
  {
   "cell_type": "code",
   "execution_count": 2,
   "metadata": {},
   "outputs": [
    {
     "data": {
      "text/html": [
       "<div>\n",
       "<style scoped>\n",
       "    .dataframe tbody tr th:only-of-type {\n",
       "        vertical-align: middle;\n",
       "    }\n",
       "\n",
       "    .dataframe tbody tr th {\n",
       "        vertical-align: top;\n",
       "    }\n",
       "\n",
       "    .dataframe thead th {\n",
       "        text-align: right;\n",
       "    }\n",
       "</style>\n",
       "<table border=\"1\" class=\"dataframe\">\n",
       "  <thead>\n",
       "    <tr style=\"text-align: right;\">\n",
       "      <th></th>\n",
       "      <th>news_title</th>\n",
       "      <th>summary</th>\n",
       "      <th>category</th>\n",
       "      <th>date</th>\n",
       "      <th>link</th>\n",
       "      <th>news</th>\n",
       "      <th>category_backup</th>\n",
       "    </tr>\n",
       "  </thead>\n",
       "  <tbody>\n",
       "    <tr>\n",
       "      <th>0</th>\n",
       "      <td>mili piyango yılbaşı çekilişi sıralı tam liste...</td>\n",
       "      <td>her yıl büyük bir heyecana sahne olan ve milyo...</td>\n",
       "      <td>Gündem</td>\n",
       "      <td>2019-12-31</td>\n",
       "      <td>/gundem/mili-piyango-yilbasi-cekilisi-sirali-t...</td>\n",
       "      <td>i̇nsanların en büyük hayallerinden biri zengin...</td>\n",
       "      <td>Gündem</td>\n",
       "    </tr>\n",
       "    <tr>\n",
       "      <th>1</th>\n",
       "      <td>mili piyango sıralı tam listesi aralık çekiliş...</td>\n",
       "      <td>her yıl büyük bir heyecana sahne olan milli pi...</td>\n",
       "      <td>Gündem</td>\n",
       "      <td>2019-12-31</td>\n",
       "      <td>/gundem/mili-piyango-sirali-tam-listesi-31-ara...</td>\n",
       "      <td>i̇nsanların en büyük hayallerinden biri zengin...</td>\n",
       "      <td>Gündem</td>\n",
       "    </tr>\n",
       "    <tr>\n",
       "      <th>2</th>\n",
       "      <td>mpi̇ bilet amorti ikramiye sonuç sorgulama ekr...</td>\n",
       "      <td>milli piyango yılbaşı özel çekilişi aralık tar...</td>\n",
       "      <td>Gündem</td>\n",
       "      <td>2020-01-01</td>\n",
       "      <td>/gundem/mpi-bilet-amorti-ikramiye-sonuc-sorgul...</td>\n",
       "      <td>milli piyango yılbaşı özel çekilişinin ardında...</td>\n",
       "      <td>Gündem</td>\n",
       "    </tr>\n",
       "    <tr>\n",
       "      <th>3</th>\n",
       "      <td>yılbaşı mesajları ve sözleri sevdiklerinize gö...</td>\n",
       "      <td>google yılbaşı gününe özel doodle yayımladı yı...</td>\n",
       "      <td>Gündem</td>\n",
       "      <td>2019-12-31</td>\n",
       "      <td>/gundem/yilbasi-mesajlari-sosyal-medya-ve-tele...</td>\n",
       "      <td>yeni yıl heyecanı tüm yurdumuzu sardı bu akşam...</td>\n",
       "      <td>Gündem</td>\n",
       "    </tr>\n",
       "    <tr>\n",
       "      <th>4</th>\n",
       "      <td>yeni yıl mesajları yılbaşı mesajları kısa uzun...</td>\n",
       "      <td>bugün günlerden aralık senenin son günü yılbaş...</td>\n",
       "      <td>Gündem</td>\n",
       "      <td>2019-12-31</td>\n",
       "      <td>/gundem/yilbasi-kutlama-mesajlari-2020-yeni-yi...</td>\n",
       "      <td>bugün en özel günlerden biri yeni yıl öncesi k...</td>\n",
       "      <td>Gündem</td>\n",
       "    </tr>\n",
       "  </tbody>\n",
       "</table>\n",
       "</div>"
      ],
      "text/plain": [
       "                                          news_title  \\\n",
       "0  mili piyango yılbaşı çekilişi sıralı tam liste...   \n",
       "1  mili piyango sıralı tam listesi aralık çekiliş...   \n",
       "2  mpi̇ bilet amorti ikramiye sonuç sorgulama ekr...   \n",
       "3  yılbaşı mesajları ve sözleri sevdiklerinize gö...   \n",
       "4  yeni yıl mesajları yılbaşı mesajları kısa uzun...   \n",
       "\n",
       "                                             summary category        date  \\\n",
       "0  her yıl büyük bir heyecana sahne olan ve milyo...   Gündem  2019-12-31   \n",
       "1  her yıl büyük bir heyecana sahne olan milli pi...   Gündem  2019-12-31   \n",
       "2  milli piyango yılbaşı özel çekilişi aralık tar...   Gündem  2020-01-01   \n",
       "3  google yılbaşı gününe özel doodle yayımladı yı...   Gündem  2019-12-31   \n",
       "4  bugün günlerden aralık senenin son günü yılbaş...   Gündem  2019-12-31   \n",
       "\n",
       "                                                link  \\\n",
       "0  /gundem/mili-piyango-yilbasi-cekilisi-sirali-t...   \n",
       "1  /gundem/mili-piyango-sirali-tam-listesi-31-ara...   \n",
       "2  /gundem/mpi-bilet-amorti-ikramiye-sonuc-sorgul...   \n",
       "3  /gundem/yilbasi-mesajlari-sosyal-medya-ve-tele...   \n",
       "4  /gundem/yilbasi-kutlama-mesajlari-2020-yeni-yi...   \n",
       "\n",
       "                                                news category_backup  \n",
       "0  i̇nsanların en büyük hayallerinden biri zengin...          Gündem  \n",
       "1  i̇nsanların en büyük hayallerinden biri zengin...          Gündem  \n",
       "2  milli piyango yılbaşı özel çekilişinin ardında...          Gündem  \n",
       "3  yeni yıl heyecanı tüm yurdumuzu sardı bu akşam...          Gündem  \n",
       "4  bugün en özel günlerden biri yeni yıl öncesi k...          Gündem  "
      ]
     },
     "execution_count": 2,
     "metadata": {},
     "output_type": "execute_result"
    }
   ],
   "source": [
    "data=pd.read_csv('derlemler/filtrelenmis_temizlenmis_derlem.csv.gz')\n",
    "data.head()"
   ]
  },
  {
   "cell_type": "code",
   "execution_count": 3,
   "metadata": {},
   "outputs": [
    {
     "name": "stdout",
     "output_type": "stream",
     "text": [
      "Toplam örnek sayısı: 81407\n"
     ]
    }
   ],
   "source": [
    "print(f\"Toplam örnek sayısı: {len(data)}\")"
   ]
  },
  {
   "cell_type": "code",
   "execution_count": 4,
   "metadata": {},
   "outputs": [
    {
     "name": "stdout",
     "output_type": "stream",
     "text": [
      "Haber türüne göre örnek sayıları:\n",
      "Gündem: 21031\n",
      "Ekonomi: 11165\n",
      "Spor: 10699\n",
      "Siyaset: 14530\n",
      "Dünya: 4792\n",
      "Yaşam: 1696\n",
      "Pazar: 2090\n",
      "Ege: 6131\n",
      "Magazin: 3980\n",
      "Kültür_Sanat: 1265\n",
      "Teknoloji_Bilim: 3105\n",
      "Cumartesi: 923\n"
     ]
    }
   ],
   "source": [
    "print(\"Haber türüne göre örnek sayıları:\")\n",
    "for cat in data.category.unique():\n",
    "    print(f\"{cat}: {len(data[data['category']==cat])}\")"
   ]
  },
  {
   "cell_type": "markdown",
   "metadata": {},
   "source": [
    "### Çeşitli kategorilerdeki haberlerin çıkartılması"
   ]
  },
  {
   "cell_type": "code",
   "execution_count": 5,
   "metadata": {},
   "outputs": [],
   "source": [
    "cat_drop = ['Gündem', 'Pazar', 'Cumartesi']"
   ]
  },
  {
   "cell_type": "code",
   "execution_count": 6,
   "metadata": {},
   "outputs": [
    {
     "name": "stdout",
     "output_type": "stream",
     "text": [
      "Geriye kalan örnek sayısı: 57363\n"
     ]
    }
   ],
   "source": [
    "data=data.drop(data[data.category.apply(lambda x: True if x in cat_drop else False)].index, axis=0)\n",
    "data=data.reset_index(drop=True)\n",
    "print(f\"Geriye kalan örnek sayısı: {len(data)}\")"
   ]
  },
  {
   "cell_type": "markdown",
   "metadata": {},
   "source": [
    "### Stop wordlerin belirlenmesi\n",
    "Milliyet de bir stop word olarak belirlenmiştir ve listeye eklenmiştir. (çoğu haberde var)"
   ]
  },
  {
   "cell_type": "code",
   "execution_count": 7,
   "metadata": {},
   "outputs": [],
   "source": [
    "stop_words_tr = pd.read_csv('stop_words_tr.txt', sep=\"\\n\", header=None)\n",
    "stop_words_tr=stop_words_tr.transpose().values.tolist()[0]\n",
    "stop_words_tr.append('milliyet')"
   ]
  },
  {
   "cell_type": "code",
   "execution_count": 8,
   "metadata": {},
   "outputs": [],
   "source": [
    "# Yedek veri oluşturma\n",
    "df=data.copy()"
   ]
  },
  {
   "cell_type": "markdown",
   "metadata": {},
   "source": [
    "### Bazı kategorideki haberlerin birleştirilmesi ve çıkarılması\n",
    "Geriye kalanlar:\n",
    "\n",
    "5-kategori: Ekonomi, Siyaset, Spor, Teknoloji-Bilim, Diğer (Kültür-Sanat, Magazin, Yaşam)"
   ]
  },
  {
   "cell_type": "code",
   "execution_count": 9,
   "metadata": {},
   "outputs": [
    {
     "name": "stdout",
     "output_type": "stream",
     "text": [
      "Geriye kalan örnek sayısı: 46440\n"
     ]
    }
   ],
   "source": [
    "df=df.drop(df[df.category=='Ege'].index)\n",
    "df=df.drop(df[df.category=='Dünya'].index)\n",
    "df['category'] = df['category'].apply(lambda x: 'Diğer' if x in ['Yaşam', 'Magazin', 'Kültür_Sanat'] else x)\n",
    "print(f\"Geriye kalan örnek sayısı: {len(df)}\")"
   ]
  },
  {
   "cell_type": "code",
   "execution_count": 10,
   "metadata": {},
   "outputs": [
    {
     "name": "stdout",
     "output_type": "stream",
     "text": [
      "{'Diğer': 0, 'Ekonomi': 1, 'Siyaset': 2, 'Spor': 3, 'Teknoloji_Bilim': 4}\n"
     ]
    }
   ],
   "source": [
    "data_titles = df.news_title\n",
    "data_summaries = df.summary\n",
    "data_news = df.news\n",
    "data_labels = df.category\n",
    "#data_labels = data_labels.astype('category').cat.codes\n",
    "\n",
    "le = LabelEncoder()\n",
    "data_labels = le.fit(data_labels).transform(data_labels)\n",
    "le_name_mapping = dict(zip(le.classes_, le.transform(le.classes_)))\n",
    "\n",
    "print(le_name_mapping)"
   ]
  },
  {
   "cell_type": "markdown",
   "metadata": {},
   "source": [
    "### Verinin %70 train (eğitim), %30 test (deney) olarak ayrılması"
   ]
  },
  {
   "cell_type": "code",
   "execution_count": 11,
   "metadata": {},
   "outputs": [],
   "source": [
    "train_X, test_X, train_Y, test_Y= train_test_split(data_news, data_labels, stratify=data_labels,test_size=0.30, shuffle=True)"
   ]
  },
  {
   "cell_type": "markdown",
   "metadata": {},
   "source": [
    "### Haber metinlerinin vektöre dönüşümü"
   ]
  },
  {
   "cell_type": "code",
   "execution_count": 12,
   "metadata": {},
   "outputs": [
    {
     "name": "stdout",
     "output_type": "stream",
     "text": [
      "223078\n"
     ]
    }
   ],
   "source": [
    "#token_pat= '[a-z]{3,}'   ngram_range=(1,2)\n",
    "cv = CountVectorizer(max_df=0.80, min_df=2, ngram_range= (1, 1), stop_words=stop_words_tr) #token_pattern=token_pat , stop_words=stop_words_tr\n",
    "train_data = cv.fit_transform(train_X)\n",
    "\n",
    "sum_words = train_data.sum(axis=0)\n",
    "words_freq = [(word, sum_words[0, idx]) for word, idx in cv.vocabulary_.items()]\n",
    "words_freq = sorted(words_freq, key = lambda x: x[1], reverse=True)\n",
    "\n",
    "reverse_vocabulary = {}\n",
    "vocabulary = cv.vocabulary_\n",
    "for word in vocabulary:\n",
    "    index = vocabulary[word]\n",
    "    reverse_vocabulary[index] = word\n",
    "\n",
    "train_data_vocab=cv.get_feature_names()\n",
    "print (len(train_data_vocab))"
   ]
  },
  {
   "cell_type": "markdown",
   "metadata": {},
   "source": [
    "### Haberlerde en çok ve en az geçen 10 kelimeler"
   ]
  },
  {
   "cell_type": "code",
   "execution_count": 13,
   "metadata": {},
   "outputs": [
    {
     "data": {
      "text/plain": [
       "[('türkiye', 51290),\n",
       " ('ın', 42307),\n",
       " ('in', 36373),\n",
       " ('büyük', 27271),\n",
       " ('yeni', 24340),\n",
       " ('son', 21332),\n",
       " ('iyi', 20413),\n",
       " ('türk', 20245),\n",
       " ('ilk', 19980),\n",
       " ('yüzde', 19641)]"
      ]
     },
     "execution_count": 13,
     "metadata": {},
     "output_type": "execute_result"
    }
   ],
   "source": [
    "words_freq[:10]"
   ]
  },
  {
   "cell_type": "code",
   "execution_count": 14,
   "metadata": {},
   "outputs": [
    {
     "data": {
      "text/plain": [
       "[('ödetilecek', 2),\n",
       " ('arayanlarla', 2),\n",
       " ('geliyori', 2),\n",
       " ('müvekkiline', 2),\n",
       " ('kotanjant', 2),\n",
       " ('mücevherinin', 2),\n",
       " ('ulas', 2),\n",
       " ('madi', 2),\n",
       " ('yaklaşımınızın', 2),\n",
       " ('peşindekilere', 2)]"
      ]
     },
     "execution_count": 14,
     "metadata": {},
     "output_type": "execute_result"
    }
   ],
   "source": [
    "words_freq[-10:]"
   ]
  },
  {
   "cell_type": "code",
   "execution_count": 15,
   "metadata": {},
   "outputs": [
    {
     "name": "stdout",
     "output_type": "stream",
     "text": [
      "223078\n"
     ]
    }
   ],
   "source": [
    "cv2 = CountVectorizer(vocabulary=train_data_vocab)\n",
    "#cv2 = TfidfVectorizer(vocabulary=train_data_vocab)\n",
    "test_data = cv2.fit_transform(test_X)\n",
    "test_data_vocab=cv2.get_feature_names()\n",
    "print(len(test_data_vocab))"
   ]
  },
  {
   "cell_type": "markdown",
   "metadata": {},
   "source": [
    "### Model eğitimi "
   ]
  },
  {
   "cell_type": "code",
   "execution_count": 16,
   "metadata": {},
   "outputs": [
    {
     "name": "stdout",
     "output_type": "stream",
     "text": [
      "0.8079959804766006\n"
     ]
    }
   ],
   "source": [
    "from sklearn.naive_bayes import MultinomialNB\n",
    "clf = MultinomialNB(alpha = 1)\n",
    "clf.fit(train_data, train_Y)\n",
    "y_pred = clf.predict(test_data)\n",
    "print(accuracy_score(test_Y, y_pred))"
   ]
  },
  {
   "cell_type": "markdown",
   "metadata": {},
   "source": [
    "### Sonuçlar"
   ]
  },
  {
   "cell_type": "code",
   "execution_count": 17,
   "metadata": {},
   "outputs": [
    {
     "name": "stdout",
     "output_type": "stream",
     "text": [
      "[[1634  150  202   72   24]\n",
      " [ 233 2369  633   91   23]\n",
      " [ 347  416 3473  108   15]\n",
      " [  71   57  160 2918    4]\n",
      " [  38   25    6    0  863]]\n"
     ]
    }
   ],
   "source": [
    "print(confusion_matrix(test_Y, y_pred))"
   ]
  },
  {
   "cell_type": "code",
   "execution_count": 18,
   "metadata": {},
   "outputs": [
    {
     "name": "stdout",
     "output_type": "stream",
     "text": [
      "                 precision    recall  f1-score   support\n",
      "\n",
      "          Diğer       0.70      0.78      0.74      2082\n",
      "        Ekonomi       0.79      0.71      0.74      3349\n",
      "        Siyaset       0.78      0.80      0.79      4359\n",
      "           Spor       0.92      0.91      0.91      3210\n",
      "Teknoloji_Bilim       0.93      0.93      0.93       932\n",
      "\n",
      "       accuracy                           0.81     13932\n",
      "      macro avg       0.82      0.82      0.82     13932\n",
      "   weighted avg       0.81      0.81      0.81     13932\n",
      "\n"
     ]
    }
   ],
   "source": [
    "print(classification_report(test_Y, y_pred, target_names=le.classes_))"
   ]
  },
  {
   "cell_type": "markdown",
   "metadata": {},
   "source": [
    "### Kategorilere göre en çok geçen kelimeler"
   ]
  },
  {
   "cell_type": "code",
   "execution_count": 19,
   "metadata": {},
   "outputs": [
    {
     "name": "stdout",
     "output_type": "stream",
     "text": [
      "Diğer - ['yer', 'gün', 'türk', 'zaman', 'iyi', 'son', 'kitap', 'yıl', 'stanbul', 'ilk', 'büyük', 'yeni', 'türkiye', 'in', 'ın'] \n",
      "\n",
      "Ekonomi - ['tr', 'com', 'abd', 'son', 'başkanı', 'önemli', 'türk', 'dolar', 'yeni', 'ın', 'yıl', 'in', 'büyük', 'yüzde', 'türkiye'] \n",
      "\n",
      "Siyaset - ['yok', 'dedi', 'büyük', 'türk', 'yeni', 'ankara', 'parti', 'başbakan', 'başkanı', 'erdoğan', 'chp', 'genel', 'in', 'ın', 'türkiye'] \n",
      "\n",
      "Spor - ['teknik', 'yok', 'milli', 'son', 'ilk', 'türkiye', 'takım', 'futbol', 'büyük', 'beşiktaş', 'iyi', 'in', 'galatasaray', 'ın', 'fenerbahçe'] \n",
      "\n",
      "Teknoloji_Bilim - ['oyun', 'büyük', 'iyi', 'samsung', 'binay', 'galaxy', 'onur', 'sahip', 'in', 'ın', 'apple', 'tr', 'com', 'yeni', 'phone'] \n",
      "\n"
     ]
    }
   ],
   "source": [
    "coefs = clf.coef_\n",
    "target_names = le.classes_\n",
    "\n",
    "for i in range(len(target_names)):\n",
    "    words = []\n",
    "    for j in coefs[i].argsort()[-15:]:\n",
    "        words.append(reverse_vocabulary[j])\n",
    "    print (target_names[i], '-', words, \"\\n\")"
   ]
  }
 ],
 "metadata": {
  "kernelspec": {
   "display_name": "Python 3",
   "language": "python",
   "name": "python3"
  },
  "language_info": {
   "codemirror_mode": {
    "name": "ipython",
    "version": 3
   },
   "file_extension": ".py",
   "mimetype": "text/x-python",
   "name": "python",
   "nbconvert_exporter": "python",
   "pygments_lexer": "ipython3",
   "version": "3.7.6"
  }
 },
 "nbformat": 4,
 "nbformat_minor": 4
}
