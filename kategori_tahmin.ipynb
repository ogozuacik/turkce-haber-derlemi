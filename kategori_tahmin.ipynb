{
 "cells": [
  {
   "cell_type": "code",
   "execution_count": 1,
   "metadata": {},
   "outputs": [],
   "source": [
    "import pickle\n",
    "import pandas as pd\n",
    "import pre_processing_tr as pr\n",
    "from sklearn.feature_extraction.text import CountVectorizer"
   ]
  },
  {
   "cell_type": "code",
   "execution_count": 2,
   "metadata": {},
   "outputs": [
    {
     "name": "stdout",
     "output_type": "stream",
     "text": [
      "Sınıflandırmak istediğiniz haber metnini giriniz. \n",
      "\n",
      "Hazine ve Maliye Bakanlığı Gelir İdaresi Başkanlığının Vergi Usul Kanunu Genel Tebliği, Resmi Gazete'de yayımlanarak yürürlüğe girdi.  Vergi mükellefiyetine ilişkin yükümlülüklerin tam yerine getirilip getirilmediğini kontrol etmek amacıyla mükellefler, mükelleflerle muamelede bulunan kişiler ya da kamu idare ve müesseselerinden çeşitli bilgiler toplayan bakanlık, bu bilgilerle vergi incelemesi ve denetimler gerçekleştiriyor. Vergi incelemesi başta olmak üzere gerçekleştirilen bu işlemler süreci uzatabiliyor ve bu durum da vergiye uyum maliyetlerini artıran bir sonuç ortaya çıkarabiliyor.  Tebliğ, bu durumların ortadan kaldırılması amacıyla planlanan \"izaha davet\" müessesesine ilişkin düzenlemeleri kapsıyor.  Buna göre, \"izaha davet\" müessesesinde, izaha davet edilen mükelleflerle ilgili yapılan değerlendirmeler sonucu, vergi ziyaına sebebiyet vermediği anlaşılanların konuyla ilgili vergi incelemesine veya takdir komisyonuna sevk edilmesi önleniyor veya vergi ziyaına sebebiyet verildiği durumlarda mükellefler belirli şartlar dahilinde indirimli ceza uygulanmak suretiyle daha ağır müeyyidelerden korunuyor.  Uygulamada, bakanlık birimleri tarafından vergi ziyaına uğrandığına delalet eden emareler bulunması halinde, haklarında ön tespit yapılanlar izaha davet edilecek ve bu mükelleflerin 30 gün içinde ilgili komisyona izahta bulunmaları beklenecek.  VERGİ ZİYAI CEZASINDA İNDİRİM ŞARTLARI  Kendilerine bildirilen konuya ilişkin doğrudan beyanname vermesi mümkün mükelleflerin beyanname vermesiyle eksik vergi beyanının tamamlanması ve ödeme yapılması durumunda, vergi ziyaı cezası indirimli olacak. Vergi, ziyaa uğratılan kısım üzerinden yüzde 20 kesilecek. Yüzde 20 kesilen bu ceza için uzlaşma talep edilebileceği gibi indirim istenerek bu cezanın yarısının ödenmesi de mümkün olacak.  Mükellefler tarafından yapılan izahın komisyon tarafından değerlendirilmesi neticesinde, mükellefin izahının yeterli bulunması ve beyanname verilmesini veya vergi beyanının tamamlanmasını gerektirir bir durumun olmadığına karar verilmesi halinde, bu durum mükellefe bildirilecek ve mükellef bu tespite ilişkin vergi incelemesine ve takdir komisyonuna sevk edilmeyecek.  Mükelleflerce yapılan izahın, izaha davet yazısında yer verilen ziyaa uğramış olabilecek vergi tutarını doğrular nitelikte olduğunun veya söz konusu ön tespite ilişkin yapılan izahın yeterli bulunmayarak beyanname verilmesini gerektiren bir durumun bulunduğuna karar verilmesi halinde ise bu husus mükellefe bir yazıyla bildirilecek. Mükelleflerin bu bildirimin yapıldığı tarihi izleyen 30 gün içinde beyanname vererek eksik vergi beyanını tamamlamaları ve ödeme yapmaları durumunda, vergi ziyaı cezası indirimli olarak ziyaa uğratılan vergi üzerinden yüzde 20 oranında kesilecek. Aynı zamanda mükellefler bu indirimli ceza için uzlaşma talep edebilecek ya da indirim isteyerek bu cezanın da yarısını ödeyebilecek.  Kullanılan sahte veya muhteviyatı itibarıyla yanıltıcı belge tutarı, bir takvim yılında 100 bin lirayı geçmeyen veya bu tutarı geçse dahi ilgili yıldaki toplam mal ve hizmet alışlarının yüzde 5'ini aşmayan mükellefler de izaha davet uygulamasında beyanlarını düzeltmeye davet edilebilecek.  Kendilerine bu kapsamda yazı tebliğ edilen mükelleflerin, tebligattan itibaren 30 gün içinde beyanname vererek eksik vergi beyanını tamamlamaları ve ödeme yapmaları halinde vergi ziyaı cezası indirimli olarak ziyaa uğratılan vergi üzerinden yüzde 20 oranında kesilecek. Mükellefler bu ceza için uzlaşma talep edemeyecek ancak indirim isteyerek cezanın yarısını ödeyebilecek.\n"
     ]
    }
   ],
   "source": [
    "# Sınıflandırılmak istenen metin girilir.\n",
    "# Örnek haber: Ekonomi, linki https://www.haberturk.com/vergi-denetiminde-izaha-davet-donemi-2759699-ekonomi\n",
    "text = input(\"Sınıflandırmak istediğiniz haber metnini giriniz. \\n\\n\")"
   ]
  },
  {
   "cell_type": "code",
   "execution_count": 3,
   "metadata": {},
   "outputs": [
    {
     "name": "stdout",
     "output_type": "stream",
     "text": [
      "Ön işleme sonucu metinin son hali: \n",
      "\n",
      "hazine ve maliye bakanlığı gelir i̇daresi başkanlığının vergi usul kanunu genel tebliği resmi gazete de yayımlanarak yürürlüğe girdi vergi mükellefiyetine ilişkin yükümlülüklerin tam yerine getirilip getirilmediğini kontrol etmek amacıyla mükellefler mükelleflerle muamelede bulunan kişiler ya da kamu idare ve müesseselerinden çeşitli bilgiler toplayan bakanlık bu bilgilerle vergi incelemesi ve denetimler gerçekleştiriyor vergi incelemesi başta olmak üzere gerçekleştirilen bu işlemler süreci uzatabiliyor ve bu durum da vergiye uyum maliyetlerini artıran bir sonuç ortaya çıkarabiliyor tebliğ bu durumların ortadan kaldırılması amacıyla planlanan izaha davet müessesesine ilişkin düzenlemeleri kapsıyor buna göre izaha davet müessesesinde izaha davet edilen mükelleflerle ilgili yapılan değerlendirmeler sonucu vergi ziyaına sebebiyet vermediği anlaşılanların konuyla ilgili vergi incelemesine veya takdir komisyonuna sevk edilmesi önleniyor veya vergi ziyaına sebebiyet verildiği durumlarda mükellefler belirli şartlar dahilinde indirimli ceza uygulanmak suretiyle daha ağır müeyyidelerden korunuyor uygulamada bakanlık birimleri tarafından vergi ziyaına uğrandığına delalet eden emareler bulunması halinde haklarında ön tespit yapılanlar izaha davet edilecek ve bu mükelleflerin gün içinde ilgili komisyona izahta bulunmaları beklenecek vergi̇ zi̇yai cezasinda i̇ndi̇ri̇m şartlari kendilerine bildirilen konuya ilişkin doğrudan beyanname vermesi mümkün mükelleflerin beyanname vermesiyle eksik vergi beyanının tamamlanması ve ödeme yapılması durumunda vergi ziyaı cezası indirimli olacak vergi ziyaa uğratılan kısım üzerinden yüzde kesilecek yüzde kesilen bu ceza için uzlaşma talep edilebileceği gibi indirim istenerek bu cezanın yarısının ödenmesi de mümkün olacak mükellefler tarafından yapılan izahın komisyon tarafından değerlendirilmesi neticesinde mükellefin izahının yeterli bulunması ve beyanname verilmesini veya vergi beyanının tamamlanmasını gerektirir bir durumun olmadığına karar verilmesi halinde bu durum mükellefe bildirilecek ve mükellef bu tespite ilişkin vergi incelemesine ve takdir komisyonuna sevk edilmeyecek mükelleflerce yapılan izahın izaha davet yazısında yer verilen ziyaa uğramış olabilecek vergi tutarını doğrular nitelikte olduğunun veya söz konusu ön tespite ilişkin yapılan izahın yeterli bulunmayarak beyanname verilmesini gerektiren bir durumun bulunduğuna karar verilmesi halinde ise bu husus mükellefe bir yazıyla bildirilecek mükelleflerin bu bildirimin yapıldığı tarihi izleyen gün içinde beyanname vererek eksik vergi beyanını tamamlamaları ve ödeme yapmaları durumunda vergi ziyaı cezası indirimli olarak ziyaa uğratılan vergi üzerinden yüzde oranında kesilecek aynı zamanda mükellefler bu indirimli ceza için uzlaşma talep edebilecek ya da indirim isteyerek bu cezanın da yarısını ödeyebilecek kullanılan sahte veya muhteviyatı itibarıyla yanıltıcı belge tutarı bir takvim yılında bin lirayı geçmeyen veya bu tutarı geçse dahi ilgili yıldaki toplam mal ve hizmet alışlarının yüzde ini aşmayan mükellefler de izaha davet uygulamasında beyanlarını düzeltmeye davet edilebilecek kendilerine bu kapsamda yazı tebliğ edilen mükelleflerin tebligattan itibaren gün içinde beyanname vererek eksik vergi beyanını tamamlamaları ve ödeme yapmaları halinde vergi ziyaı cezası indirimli olarak ziyaa uğratılan vergi üzerinden yüzde oranında kesilecek mükellefler bu ceza için uzlaşma talep edemeyecek ancak indirim isteyerek cezanın yarısını ödeyebilecek\n"
     ]
    }
   ],
   "source": [
    "# Metin ön işleyiciden geçirildikten sonra sonuç\n",
    "text_processed = pr.pre_process(text)\n",
    "print('Ön işleme sonucu metinin son hali: \\n')\n",
    "print(text_processed)"
   ]
  },
  {
   "cell_type": "code",
   "execution_count": 4,
   "metadata": {},
   "outputs": [],
   "source": [
    "##Önceden eğitilmiş modelin yüklenmesi\n",
    "filename = 'modeller/5-kategori_vocab.sav'\n",
    "loaded_vocab = pickle.load(open(filename, 'rb'))\n",
    "\n",
    "cv = CountVectorizer(vocabulary=loaded_vocab)\n",
    "text_vector = cv.fit_transform([text_processed])"
   ]
  },
  {
   "cell_type": "code",
   "execution_count": 5,
   "metadata": {},
   "outputs": [],
   "source": [
    "filename = 'modeller/5-kategori.sav'\n",
    "loaded_model = pickle.load(open(filename, 'rb'))\n",
    "\n",
    "class_mapping = {0: 'Diğer', 1: 'Ekonomi', 2: 'Siyaset', 3: 'Spor', 4: 'Teknoloji_Bilim'}"
   ]
  },
  {
   "cell_type": "code",
   "execution_count": 6,
   "metadata": {},
   "outputs": [
    {
     "name": "stdout",
     "output_type": "stream",
     "text": [
      "Kategori tahmini: Ekonomi\n"
     ]
    }
   ],
   "source": [
    "#Tahmin aşaması\n",
    "pred = loaded_model.predict(text_vector)\n",
    "print(f\"Kategori tahmini: {class_mapping[pred[0]]}\")"
   ]
  }
 ],
 "metadata": {
  "kernelspec": {
   "display_name": "Python 3",
   "language": "python",
   "name": "python3"
  },
  "language_info": {
   "codemirror_mode": {
    "name": "ipython",
    "version": 3
   },
   "file_extension": ".py",
   "mimetype": "text/x-python",
   "name": "python",
   "nbconvert_exporter": "python",
   "pygments_lexer": "ipython3",
   "version": "3.7.6"
  }
 },
 "nbformat": 4,
 "nbformat_minor": 4
}
