{
 "cells": [
  {
   "cell_type": "code",
   "execution_count": 1,
   "metadata": {},
   "outputs": [],
   "source": [
    "import pickle\n",
    "import pandas as pd\n",
    "import pre_processing_tr as pr\n",
    "from sklearn.feature_extraction.text import CountVectorizer"
   ]
  },
  {
   "cell_type": "code",
   "execution_count": 2,
   "metadata": {},
   "outputs": [
    {
     "name": "stdout",
     "output_type": "stream",
     "text": [
      "Sınıflandırmak istediğiniz haber metnini giriniz. \n",
      "\n",
      "dolar\n"
     ]
    }
   ],
   "source": [
    "# Sınıflandırılmak istenen metin girilir.\n",
    "text = input(\"Sınıflandırmak istediğiniz haber metnini giriniz. \\n\\n\")"
   ]
  },
  {
   "cell_type": "code",
   "execution_count": 3,
   "metadata": {},
   "outputs": [
    {
     "name": "stdout",
     "output_type": "stream",
     "text": [
      "Ön işleme sonucu metinin son hali: \n",
      "\n",
      "dolar\n"
     ]
    }
   ],
   "source": [
    "# Metin ön işleyiciden geçirildikten sonra sonuç\n",
    "text_processed = pr.pre_process(text)\n",
    "print('Ön işleme sonucu metinin son hali: \\n')\n",
    "print(text_processed)"
   ]
  },
  {
   "cell_type": "code",
   "execution_count": 4,
   "metadata": {},
   "outputs": [],
   "source": [
    "##Önceden eğitilmiş modelin yüklenmesi\n",
    "filename = 'modeller/5-kategori_vocab.sav'\n",
    "loaded_vocab = pickle.load(open(filename, 'rb'))\n",
    "\n",
    "cv = CountVectorizer(vocabulary=loaded_vocab)\n",
    "text_vector = cv.fit_transform([text_processed])"
   ]
  },
  {
   "cell_type": "code",
   "execution_count": 5,
   "metadata": {},
   "outputs": [],
   "source": [
    "filename = 'modeller/5-kategori.sav'\n",
    "loaded_model = pickle.load(open(filename, 'rb'))\n",
    "\n",
    "class_mapping = {0: 'Diğer', 1: 'Ekonomi', 2: 'Siyaset', 3: 'Spor', 4: 'Teknoloji_Bilim'}"
   ]
  },
  {
   "cell_type": "code",
   "execution_count": 6,
   "metadata": {},
   "outputs": [
    {
     "name": "stdout",
     "output_type": "stream",
     "text": [
      "Kategori tahmini: Ekonomi\n"
     ]
    }
   ],
   "source": [
    "#Tahmin aşaması\n",
    "pred = loaded_model.predict(text_vector)\n",
    "print(f\"Kategori tahmini: {class_mapping[pred[0]]}\")"
   ]
  },
  {
   "cell_type": "code",
   "execution_count": 7,
   "metadata": {},
   "outputs": [
    {
     "name": "stdout",
     "output_type": "stream",
     "text": [
      "yapıyor okul on\n"
     ]
    }
   ],
   "source": [
    "text = \"yapıyordu okulda onu\"\n",
    "print(pr.turkish_stemmer(text))"
   ]
  },
  {
   "cell_type": "code",
   "execution_count": null,
   "metadata": {},
   "outputs": [],
   "source": []
  }
 ],
 "metadata": {
  "kernelspec": {
   "display_name": "Python 3",
   "language": "python",
   "name": "python3"
  },
  "language_info": {
   "codemirror_mode": {
    "name": "ipython",
    "version": 3
   },
   "file_extension": ".py",
   "mimetype": "text/x-python",
   "name": "python",
   "nbconvert_exporter": "python",
   "pygments_lexer": "ipython3",
   "version": "3.7.6"
  }
 },
 "nbformat": 4,
 "nbformat_minor": 4
}
