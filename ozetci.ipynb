{
 "cells": [
  {
   "cell_type": "code",
   "execution_count": 1,
   "metadata": {},
   "outputs": [],
   "source": [
    "import nltk\n",
    "import numpy as np\n",
    "import pandas as pd\n",
    "import pre_processing_tr as pr\n",
    "import networkx as nx\n",
    "\n",
    "from nltk.tokenize import sent_tokenize\n",
    "from sklearn.metrics.pairwise import cosine_similarity\n",
    "\n",
    "import fasttext\n",
    "import fasttext.util"
   ]
  },
  {
   "cell_type": "code",
   "execution_count": 2,
   "metadata": {},
   "outputs": [
    {
     "name": "stderr",
     "output_type": "stream",
     "text": [
      "Warning : `load_model` does not return WordVectorModel or SupervisedModel any more, but a `FastText` object which is very similar.\n"
     ]
    },
    {
     "data": {
      "text/plain": [
       "100"
      ]
     },
     "execution_count": 2,
     "metadata": {},
     "output_type": "execute_result"
    }
   ],
   "source": [
    "#Fasttext vektörlerinin yüklenmesi ve boyutunun azaltılması\n",
    "ft = fasttext.load_model('cc.tr.300.bin')\n",
    "ft.get_dimension()\n",
    "fasttext.util.reduce_model(ft, 100)\n",
    "ft.get_dimension()"
   ]
  },
  {
   "cell_type": "code",
   "execution_count": 3,
   "metadata": {},
   "outputs": [
    {
     "name": "stderr",
     "output_type": "stream",
     "text": [
      "[nltk_data] Downloading package punkt to\n",
      "[nltk_data]     C:\\Users\\Omer\\AppData\\Roaming\\nltk_data...\n",
      "[nltk_data]   Package punkt is already up-to-date!\n"
     ]
    },
    {
     "data": {
      "text/plain": [
       "True"
      ]
     },
     "execution_count": 3,
     "metadata": {},
     "output_type": "execute_result"
    }
   ],
   "source": [
    "#Eğer daha önceden indirmediyseniz, tek bir defaya mahsus bu kod ile indirebilirsiniz\n",
    "nltk.download('punkt')"
   ]
  },
  {
   "cell_type": "code",
   "execution_count": 4,
   "metadata": {},
   "outputs": [],
   "source": [
    "#Derlemin yüklenmesi ve haber seçimi\n",
    "#haber numarası adlı değişkeni dilediğiniz sayı ile değiştirip farklı haberlere erişebilirsiniz \n",
    "\n",
    "data = pd.read_csv('derlemler/filtrelenmis_derlem.csv.gz')\n",
    "haber_numarasi = 5910\n",
    "haber = data.iloc[haber_numarasi].news"
   ]
  },
  {
   "cell_type": "code",
   "execution_count": 5,
   "metadata": {},
   "outputs": [],
   "source": [
    "#Eğer kendi seçtiğiniz bir haberi özetlemek isterseniz aşağıdaki satırı uncomment ediniz (#'leri kaldırın')\n",
    "#ve dilediğiniz haberi noktalama işaretlerine dikkat ederek giriniz.\n",
    "\n",
    "#haber = input(\"Özetlemek istediğiniz haberi giriniz:\\n\")"
   ]
  },
  {
   "cell_type": "code",
   "execution_count": 6,
   "metadata": {},
   "outputs": [
    {
     "name": "stdout",
     "output_type": "stream",
     "text": [
      "Cümle sayısı: 12\n"
     ]
    }
   ],
   "source": [
    "#Metinleri cümlelere ayırma.\n",
    "cumleler = sent_tokenize(haber)\n",
    "cumle_sayisi = len(cumleler)\n",
    "print(f'Cümle sayısı: {cumle_sayisi}')"
   ]
  },
  {
   "cell_type": "code",
   "execution_count": 7,
   "metadata": {},
   "outputs": [
    {
     "data": {
      "text/plain": [
       "['Onur Binay/milliyet.com.tr.',\n",
       " \"Asya'da bir kameranın inanılmaz bir hikayesi ortaya çıktı.\",\n",
       " 'İki yıldan fazla bir süre önce okyanusta kaybolan Canon marka ve sahip olduğu fotoğraflar tekrar sahibini buldu.. Bir grup öğrenci, kuzeydeki bir plajı temizlemek için çalışıyordu.',\n",
       " '11 yaşındaki bir çocuk, tamamen taşlarla kaplı bir nesne keşfetti.',\n",
       " 'Bu, su geçirmez bir muhafazası içinde kameraydı.',\n",
       " 'Hatta çalışan Canon G12 dijital fotoğraf makinesiydi.',\n",
       " 'Kamerayı açıp içindekilere bakan öğretmen, fotoğrafların Japonya’daki bir kadının tatildeyken farklı lokasyonlarda çektiği kareleri gördü..',\n",
       " \"Son fotoğrafın 7 Eylül 2015 tarihinde Japonya'daki Ishigaki Adası'nda çekildiği anlaşılınca öğretmen, kameranın sahibini bulmak için Facebook'ta bir gönderi paylaştı.\",\n",
       " 'Fotoğraf makinesini sahibine ulaştırmak için yardım isteyen öğretmenin gönderisi viral oldu ve dünya çapında binlerce kişi kayıp fotoğraf makinesinin sahibini bulmak için gönderiyi paylaştı.',\n",
       " 'Post dünya çapında insanlar tarafından on binlerce kez paylaşıldı.. Orijinal Facebook yayınından 48 saat geçmeden, kameranın sahibi belirlendi.',\n",
       " 'Fotoğraf makinesinin sahibi Tokyo’da üniversite 3. sınıf öğrencisi olan Serina Tsubakihara’ydı ve Tayvan’ın 250 kilometre doğusundaki Ishigaki adasında tüplü dalış gerçekleştirirken makinesini kaybetmişti.',\n",
       " '2 yıl okyanus seyahati gerçekleştiren fotoğraf makinesi, şu an yeniden sahibine ulaşmak üzere yola çıktı.']"
      ]
     },
     "execution_count": 7,
     "metadata": {},
     "output_type": "execute_result"
    }
   ],
   "source": [
    "cumleler"
   ]
  },
  {
   "cell_type": "code",
   "execution_count": 8,
   "metadata": {},
   "outputs": [],
   "source": [
    "temiz_cumleler = []\n",
    "for i in range(cumle_sayisi):\n",
    "    temiz_cumleler.append(pr.compress_whitespace(pr.remove_punc(pr.remove_numbers(str(cumleler[i])))).lower())"
   ]
  },
  {
   "cell_type": "code",
   "execution_count": 9,
   "metadata": {},
   "outputs": [
    {
     "data": {
      "text/plain": [
       "['onur binay milliyet com tr',\n",
       " 'asya da bir kameranın inanılmaz bir hikayesi ortaya çıktı',\n",
       " 'i̇ki yıldan fazla bir süre önce okyanusta kaybolan canon marka ve sahip olduğu fotoğraflar tekrar sahibini buldu bir grup öğrenci kuzeydeki bir plajı temizlemek için çalışıyordu',\n",
       " 'yaşındaki bir çocuk tamamen taşlarla kaplı bir nesne keşfetti',\n",
       " 'bu su geçirmez bir muhafazası içinde kameraydı',\n",
       " 'hatta çalışan canon g dijital fotoğraf makinesiydi',\n",
       " 'kamerayı açıp içindekilere bakan öğretmen fotoğrafların japonya daki bir kadının tatildeyken farklı lokasyonlarda çektiği kareleri gördü',\n",
       " 'son fotoğrafın eylül tarihinde japonya daki ishigaki adası nda çekildiği anlaşılınca öğretmen kameranın sahibini bulmak için facebook ta bir gönderi paylaştı',\n",
       " 'fotoğraf makinesini sahibine ulaştırmak için yardım isteyen öğretmenin gönderisi viral oldu ve dünya çapında binlerce kişi kayıp fotoğraf makinesinin sahibini bulmak için gönderiyi paylaştı',\n",
       " 'post dünya çapında insanlar tarafından on binlerce kez paylaşıldı orijinal facebook yayınından saat geçmeden kameranın sahibi belirlendi',\n",
       " 'fotoğraf makinesinin sahibi tokyo da üniversite sınıf öğrencisi olan serina tsubakihara ydı ve tayvan ın kilometre doğusundaki ishigaki adasında tüplü dalış gerçekleştirirken makinesini kaybetmişti',\n",
       " 'yıl okyanus seyahati gerçekleştiren fotoğraf makinesi şu an yeniden sahibine ulaşmak üzere yola çıktı']"
      ]
     },
     "execution_count": 9,
     "metadata": {},
     "output_type": "execute_result"
    }
   ],
   "source": [
    "temiz_cumleler"
   ]
  },
  {
   "cell_type": "code",
   "execution_count": 10,
   "metadata": {},
   "outputs": [],
   "source": [
    "#Cümlelerin vektöre dönüştürülmesi\n",
    "cumle_vektorleri = []\n",
    "for cumle in temiz_cumleler:\n",
    "    if len(cumle) != 0:\n",
    "        vek = np.zeros((100,))\n",
    "        kelimeler = cumle.split()\n",
    "        for kelime in kelimeler:\n",
    "            vek = vek + (ft.get_word_vector(kelime))\n",
    "        vek = vek / (len(kelimeler) + 0.1)\n",
    "    else:\n",
    "        vek = np.zeros((100,))\n",
    "    cumle_vektorleri.append(vek)"
   ]
  },
  {
   "cell_type": "code",
   "execution_count": 11,
   "metadata": {},
   "outputs": [],
   "source": [
    "#Benzerlik matrisinin oluşturulması \n",
    "sim_mat = np.zeros((cumle_sayisi, cumle_sayisi))\n",
    "for i in range(cumle_sayisi):\n",
    "    for j in range(cumle_sayisi):\n",
    "        if i != j:\n",
    "            sim_mat[i][j] = cosine_similarity(cumle_vektorleri[i].reshape(1,100), cumle_vektorleri[j].reshape(1,100))[0][0]"
   ]
  },
  {
   "cell_type": "code",
   "execution_count": 12,
   "metadata": {},
   "outputs": [],
   "source": [
    "#Çizgenin (Graph) kurulması ve Page Rank algoritmasının uygulanması\n",
    "nx_graph = nx.from_numpy_array(sim_mat)\n",
    "skorlar = nx.pagerank(nx_graph)"
   ]
  },
  {
   "cell_type": "code",
   "execution_count": 13,
   "metadata": {},
   "outputs": [],
   "source": [
    "#Cümleleri skoruna göre sıralamak (çoktan aza) \n",
    "sirali_cumleler = []\n",
    "for i, j in enumerate(cumleler):\n",
    "    sirali_cumleler.append((skorlar[i], j))\n",
    "sirali_cumleler = sorted(sirali_cumleler, reverse=True)"
   ]
  },
  {
   "cell_type": "code",
   "execution_count": 14,
   "metadata": {},
   "outputs": [
    {
     "name": "stdout",
     "output_type": "stream",
     "text": [
      "İki yıldan fazla bir süre önce okyanusta kaybolan Canon marka ve sahip olduğu fotoğraflar tekrar sahibini buldu.. Bir grup öğrenci, kuzeydeki bir plajı temizlemek için çalışıyordu. Son fotoğrafın 7 Eylül 2015 tarihinde Japonya'daki Ishigaki Adası'nda çekildiği anlaşılınca öğretmen, kameranın sahibini bulmak için Facebook'ta bir gönderi paylaştı. Asya'da bir kameranın inanılmaz bir hikayesi ortaya çıktı.\n"
     ]
    }
   ],
   "source": [
    "#Özet için cümle sayısı (değiştirebilirsiniz)\n",
    "#Cümle sayisindan fazla olmamalı\n",
    "ozet_uzunlugu = 3\n",
    "\n",
    "#Özet oluşturulması\n",
    "ozet = \"\"\n",
    "for i in range(ozet_uzunlugu):\n",
    "    ozet = ozet + \" \" + sirali_cumleler[i][1]\n",
    "ozet = ozet.strip()\n",
    "\n",
    "print(ozet)"
   ]
  },
  {
   "cell_type": "code",
   "execution_count": null,
   "metadata": {},
   "outputs": [],
   "source": []
  }
 ],
 "metadata": {
  "kernelspec": {
   "display_name": "Python 3",
   "language": "python",
   "name": "python3"
  },
  "language_info": {
   "codemirror_mode": {
    "name": "ipython",
    "version": 3
   },
   "file_extension": ".py",
   "mimetype": "text/x-python",
   "name": "python",
   "nbconvert_exporter": "python",
   "pygments_lexer": "ipython3",
   "version": "3.7.6"
  }
 },
 "nbformat": 4,
 "nbformat_minor": 4
}
